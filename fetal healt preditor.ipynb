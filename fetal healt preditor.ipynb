{
 "cells": [
  {
   "cell_type": "code",
   "execution_count": 5,
   "id": "afec0203",
   "metadata": {},
   "outputs": [
    {
     "name": "stdout",
     "output_type": "stream",
     "text": [
      "      baseline value  accelerations  ...  histogram_tendency  fetal_health\n",
      "0              120.0          0.000  ...                 1.0           2.0\n",
      "1              132.0          0.006  ...                 0.0           1.0\n",
      "2              133.0          0.003  ...                 0.0           1.0\n",
      "3              134.0          0.003  ...                 1.0           1.0\n",
      "4              132.0          0.007  ...                 1.0           1.0\n",
      "...              ...            ...  ...                 ...           ...\n",
      "2121           140.0          0.000  ...                 0.0           2.0\n",
      "2122           140.0          0.001  ...                 1.0           2.0\n",
      "2123           140.0          0.001  ...                 1.0           2.0\n",
      "2124           140.0          0.001  ...                 1.0           2.0\n",
      "2125           142.0          0.002  ...                 0.0           1.0\n",
      "\n",
      "[2126 rows x 22 columns]\n"
     ]
    }
   ],
   "source": [
    "from sklearn.neighbors import KNeighborsClassifier\n",
    "import pandas as pd\n",
    "import numpy as np\n",
    "data=pd.read_csv('fetal_health.csv')\n",
    "print(data)"
   ]
  },
  {
   "cell_type": "code",
   "execution_count": 6,
   "id": "c2f92caa",
   "metadata": {},
   "outputs": [],
   "source": [
    "x=data.drop('fetal_health',axis=1)\n",
    "y=data['fetal_health']\n"
   ]
  },
  {
   "cell_type": "code",
   "execution_count": 7,
   "id": "271f9380",
   "metadata": {},
   "outputs": [
    {
     "name": "stdout",
     "output_type": "stream",
     "text": [
      "[[-0.81890715 -0.82497568 -0.20426125 ... -0.74290279 -0.58051372\n",
      "  -0.51669716]\n",
      " [ 0.69242905 -0.82497568 -0.20426125 ...  0.28143057 -0.54596417\n",
      "  -0.51669716]\n",
      " [-1.12117438 -0.82497568 -0.20426125 ... -1.15263613 -0.54596417\n",
      "  -0.51669716]\n",
      " ...\n",
      " [-1.12117438  0.46404882 -0.20426125 ... -0.81119168  0.42142321\n",
      "  -0.51669716]\n",
      " [-1.82646461 -0.05156098 -0.20426125 ... -0.60632501  0.9051169\n",
      "  -0.51669716]\n",
      " [ 0.89394054 -0.56717078 -0.20426125 ...  0.7594528  -0.51141462\n",
      "   1.11902941]]\n",
      "[[-0.10653156 -0.28678423  0.05246312 ... -0.06826073 -0.33809204\n",
      "  -0.55623752]\n",
      " [-0.95282423 -0.81224695 -0.1763692  ... -1.01807968  0.34971698\n",
      "   1.08929848]\n",
      " [-0.31810473  0.23867849 -0.12551757 ... -0.50663871  0.07459337\n",
      "  -0.55623752]\n",
      " ...\n",
      " [ 1.05712087  0.7641412  -0.07466594 ...  0.88155822 -0.30370159\n",
      "   1.08929848]\n",
      " [ 0.21082819 -0.81224695 -0.12551757 ... -0.21438673 -0.57882519\n",
      "   1.08929848]\n",
      " [ 1.05712087 -0.28678423 -0.20179501 ...  1.68525117 -0.51004429\n",
      "  -0.55623752]]\n"
     ]
    }
   ],
   "source": [
    "from sklearn.model_selection import train_test_split\n",
    "from sklearn.preprocessing import StandardScaler\n",
    "x_train,x_test,y_train,y_test=train_test_split(x,y,test_size=0.2,random_state=42)\n",
    "s=StandardScaler()\n",
    "x_scaled=s.fit_transform(x_train)\n",
    "x_scaled_test=s.fit_transform(x_test)\n",
    "print(x_scaled)\n",
    "print(x_scaled_test)"
   ]
  },
  {
   "cell_type": "code",
   "execution_count": 8,
   "id": "fa3ef101",
   "metadata": {},
   "outputs": [
    {
     "name": "stdout",
     "output_type": "stream",
     "text": [
      "[1. 1. 1. 1. 1. 3. 1. 3. 2. 2. 1. 3. 1. 1. 1. 1. 1. 1. 1. 1. 1. 1. 2. 1.\n",
      " 1. 3. 3. 1. 1. 1. 1. 1. 1. 1. 1. 1. 1. 3. 2. 1. 1. 2. 1. 1. 1. 1. 1. 3.\n",
      " 1. 1. 1. 1. 1. 2. 2. 1. 1. 1. 2. 1. 1. 1. 1. 1. 1. 1. 1. 1. 1. 1. 1. 1.\n",
      " 1. 1. 1. 2. 1. 1. 1. 1. 1. 1. 1. 1. 1. 1. 1. 1. 1. 1. 1. 1. 1. 2. 2. 1.\n",
      " 1. 2. 2. 1. 2. 1. 1. 1. 1. 2. 1. 1. 3. 1. 2. 1. 1. 2. 1. 3. 1. 1. 2. 1.\n",
      " 1. 1. 1. 1. 3. 3. 3. 1. 1. 1. 3. 1. 1. 1. 1. 1. 1. 1. 1. 2. 1. 1. 1. 1.\n",
      " 3. 1. 1. 1. 1. 1. 1. 1. 2. 1. 1. 1. 1. 1. 1. 1. 1. 1. 1. 2. 1. 1. 2. 1.\n",
      " 2. 1. 1. 1. 1. 1. 1. 1. 1. 1. 1. 1. 1. 1. 1. 1. 1. 1. 1. 1. 3. 2. 1. 1.\n",
      " 1. 2. 1. 1. 1. 1. 1. 1. 1. 1. 1. 2. 1. 1. 1. 1. 1. 1. 1. 1. 1. 1. 1. 1.\n",
      " 1. 1. 1. 1. 3. 1. 1. 1. 1. 1. 1. 1. 1. 1. 1. 1. 1. 1. 1. 1. 1. 1. 1. 1.\n",
      " 1. 1. 1. 1. 1. 3. 1. 1. 3. 1. 1. 1. 1. 1. 1. 1. 1. 1. 1. 1. 1. 2. 1. 1.\n",
      " 2. 1. 1. 1. 1. 1. 1. 1. 1. 1. 1. 1. 1. 1. 1. 1. 2. 1. 1. 1. 1. 1. 1. 1.\n",
      " 1. 1. 1. 1. 1. 1. 1. 1. 1. 1. 1. 1. 1. 1. 1. 1. 3. 1. 1. 1. 1. 1. 1. 1.\n",
      " 1. 1. 2. 1. 1. 3. 1. 1. 1. 1. 1. 1. 1. 1. 1. 1. 2. 1. 1. 1. 1. 1. 1. 2.\n",
      " 1. 1. 1. 1. 1. 1. 2. 3. 1. 1. 1. 1. 2. 1. 1. 1. 1. 2. 1. 1. 1. 1. 1. 1.\n",
      " 1. 1. 1. 1. 1. 1. 1. 2. 1. 1. 1. 1. 1. 1. 1. 2. 1. 1. 1. 3. 1. 1. 1. 1.\n",
      " 1. 1. 1. 1. 2. 1. 1. 1. 1. 1. 1. 1. 1. 1. 1. 1. 1. 1. 1. 3. 1. 1. 3. 1.\n",
      " 1. 1. 2. 1. 1. 1. 1. 1. 1. 2. 1. 1. 1. 2. 1. 1. 1. 1.]\n",
      "90.84507042253522%\n"
     ]
    }
   ],
   "source": [
    "from sklearn.metrics import accuracy_score\n",
    "model=KNeighborsClassifier(n_neighbors=2)\n",
    "model.fit(x_scaled,y_train)\n",
    "healthy_or_not=model.predict(x_scaled_test)\n",
    "print(healthy_or_not)\n",
    "a=(accuracy_score(healthy_or_not,y_test))*100\n",
    "print(f\"{a}%\")\n",
    "\n"
   ]
  },
  {
   "cell_type": "code",
   "execution_count": 16,
   "id": "cb159729",
   "metadata": {},
   "outputs": [
    {
     "name": "stdout",
     "output_type": "stream",
     "text": [
      "     baby category              baby class\n",
      "0              1.0  fetus will be superman\n",
      "1              1.0  fetus will be superman\n",
      "2              1.0  fetus will be superman\n",
      "3              1.0  fetus will be superman\n",
      "4              1.0  fetus will be superman\n",
      "..             ...                     ...\n",
      "421            2.0     fetus is suspicious\n",
      "422            1.0  fetus will be superman\n",
      "423            1.0  fetus will be superman\n",
      "424            1.0  fetus will be superman\n",
      "425            1.0  fetus will be superman\n",
      "\n",
      "[426 rows x 2 columns]\n"
     ]
    }
   ],
   "source": [
    "import os\n",
    "def classifying_babies(z):\n",
    "    if z==1:\n",
    "        return 'fetus will be superman'\n",
    "    elif z==2:\n",
    "        return 'fetus is suspicious'\n",
    "    else:\n",
    "        return 'fetus should go undertests'\n",
    "output_model=pd.DataFrame(healthy_or_not,columns=['baby category']) \n",
    "output_model['baby class']=output_model['baby category'].apply(classifying_babies)\n",
    "print(output_model,sep=';')\n",
    "\n"
   ]
  },
  {
   "cell_type": "markdown",
   "id": "cebb27f5",
   "metadata": {},
   "source": [
    "decision tree classifier uses the measurements like entropy and information to gain to classify the new classes \n",
    "precision-how much is the model is correct all the time\n",
    "recall-how much model i dentifes over 100 samples\n",
    "f1-score-balance between the precision and recall\n",
    "support-the number of instances\n"
   ]
  },
  {
   "cell_type": "code",
   "execution_count": 43,
   "id": "a83de5c0",
   "metadata": {},
   "outputs": [
    {
     "name": "stdout",
     "output_type": "stream",
     "text": [
      "              precision    recall  f1-score   support\n",
      "\n",
      "         1.0       0.94      0.97      0.95       325\n",
      "         2.0       0.81      0.75      0.78        69\n",
      "         3.0       0.83      0.75      0.79        32\n",
      "\n",
      "    accuracy                           0.92       426\n",
      "   macro avg       0.86      0.82      0.84       426\n",
      "weighted avg       0.91      0.92      0.91       426\n",
      "\n"
     ]
    },
    {
     "data": {
      "image/png": "[encoded data removed]",
      "text/plain": [
       "<Figure size 1200x500 with 2 Axes>"
      ]
     },
     "metadata": {},
     "output_type": "display_data"
    },
    {
     "data": {
      "text/plain": [
       "'fetus  is ok'"
      ]
     },
     "execution_count": 43,
     "metadata": {},
     "output_type": "execute_result"
    }
   ],
   "source": [
    "#decisiontree classifier\n",
    "from sklearn.tree import DecisionTreeClassifier\n",
    "import matplotlib.pyplot as plt\n",
    "from sklearn.metrics import classification_report\n",
    "model_1=DecisionTreeClassifier()\n",
    "model_1.fit(x_scaled,y_train)\n",
    "new_instance=[[135.0, 0.002, 0.0, 0.005, 0.002, 0.0, 0.0, 20.0, 1.9, 0.0, 15.0, 125.0, 60.0, 185.0, 4.0, 0.0, 138.0, 132.0, 136.0, 10.0, 0.0]]\n",
    "predict_1=model_1.predict(x_scaled_test)\n",
    "predict=model_1.predict(new_instance)\n",
    "model_acc=classification_report(predict_1,y_test)\n",
    "print(model_acc)\n",
    "def prediction_labels(c):\n",
    "    if c == 1:\n",
    "        return 'fetus  is ok'\n",
    "    elif c==2:\n",
    "        return 'go for the test to make sure'\n",
    "    else:\n",
    "        return \"fetus is not ok\"\n",
    "colors=['red' if label==1  else 'blue'  if  label==2 else 'green' for label in predict_1]\n",
    "figure,axes=plt.subplots(1,2,figsize=(12,5))\n",
    "axes[0].scatter(range(len(predict_1)),predict_1,c=colors)\n",
    "axes[0].set_title('prediction')\n",
    "axes[1].set_title('original')\n",
    "axes[1].scatter(range(len(y_test)),y_test)\n",
    "plt.tight_layout()\n",
    "plt.show()\n",
    "prediction_labels(predict)"
   ]
  },
  {
   "cell_type": "code",
   "execution_count": null,
   "id": "2381c2f2",
   "metadata": {},
   "outputs": [],
   "source": [
    "#logistic regression\n",
    "from sklearn.linear_model import LogisticRegression\n",
    "moda=LogisticRegression()\n",
    "moda.fit(x_scaled,y_train)\n",
    "\n",
    "\n"
   ]
  },
  {
   "cell_type": "code",
   "execution_count": null,
   "id": "e0efea74",
   "metadata": {},
   "outputs": [],
   "source": []
  }
 ],
 "metadata": {
  "kernelspec": {
   "display_name": "Python 3",
   "language": "python",
   "name": "python3"
  },
  "language_info": {
   "codemirror_mode": {
    "name": "ipython",
    "version": 3
   },
   "file_extension": ".py",
   "mimetype": "text/x-python",
   "name": "python",
   "nbconvert_exporter": "python",
   "pygments_lexer": "ipython3",
   "version": "3.13.5"
  }
 },
 "nbformat": 4,
 "nbformat_minor": 5
}
